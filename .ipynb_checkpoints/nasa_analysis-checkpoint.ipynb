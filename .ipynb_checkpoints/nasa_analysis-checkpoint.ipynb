{
 "cells": [
  {
   "cell_type": "markdown",
   "metadata": {},
   "source": [
    "###NASA Analysis\n",
    "\n",
    "This is a challenge sent by Semantix. The objective of this challenge, is analyze and extract information from NASA request dataset. There is two datasets on this link [NASA request dataset](http://ita.ee.lbl.gov/html/contrib/NASA-HTTP.html) and i opted to handle one by execution. So, if you wish to execute the script to check results from both files available on dataset, stay tuned on 'results' folder, because all sub-folders and files there can be overwritten.\n",
    "\n",
    "I need to extract this informations:\n",
    "  - `bytes_per_day` -> (Quantity of Bytes per day.)\n",
    "  - `frequency_status` -> (Frequency of each http status)\n",
    "  - qty_http_404_per_day -> (Quantity of http 404 per Day)\n",
    "  - sum_bytes -> (Sum of all request bytes)\n",
    "  - `top_20_request` -> (Top twenty requests)\n",
    "  - top_5_hosts_http_404 -> (Top five hosts with response http 404)\n",
    "  - total_http_404 -> (Total of http 404)\n",
    "  - unique_hosts -> (List of unique hosts)\n",
    "\n",
    "The highlighted items, are informations that did not belongs to the challenge, but its a plus.\n",
    "\n"
   ]
  },
  {
   "cell_type": "markdown",
   "metadata": {},
   "source": [
    "First, we need to import some packagens as bellow."
   ]
  },
  {
   "cell_type": "code",
   "execution_count": 117,
   "metadata": {},
   "outputs": [],
   "source": [
    "import findspark\n",
    "findspark.init()\n",
    "\n",
    "from pyspark.sql import SQLContext\n",
    "from pyspark import SparkContext\n",
    "from pyspark.sql.functions import split, regexp_extract, col, desc\n",
    "from pyspark.sql import Column\n",
    "import matplotlib.pyplot as plt\n",
    "from matplotlib.dates import (YEARLY, DateFormatter,\n",
    "                              rrulewrapper, RRuleLocator, drange)\n",
    "import datetime\n",
    "\n",
    "\n",
    "from matplotlib.ticker import FuncFormatter\n",
    "import numpy as np"
   ]
  },
  {
   "cell_type": "markdown",
   "metadata": {},
   "source": [
    "Once we have imported those packages, lets define some useful functions."
   ]
  },
  {
   "cell_type": "markdown",
   "metadata": {},
   "source": [
    "The first method we are defining is a simple way to setup a spark context."
   ]
  },
  {
   "cell_type": "code",
   "execution_count": 3,
   "metadata": {},
   "outputs": [],
   "source": [
    "def setup_spark_context():\n",
    "    return SparkContext(\"local\", \"NASA Data Set Analysis\")\n"
   ]
  },
  {
   "cell_type": "markdown",
   "metadata": {},
   "source": [
    "Once we have a dataframe with necessary data, we will export a dataframe to a .CSV file on `results` folder. Note that there is a call for `coalesce()` method, used because we want DataFrame to write a single .CSV file. Also, is important to remember the `overwrite` option, wich means, every execution the .csv files will be overwritten on `results`folder."
   ]
  },
  {
   "cell_type": "code",
   "execution_count": 4,
   "metadata": {},
   "outputs": [],
   "source": [
    "def export_query_to_csv(data_frame, file_name):\n",
    "    data_frame.coalesce(1).write.mode('overwrite').csv('results/' + file_name)\n"
   ]
  },
  {
   "cell_type": "markdown",
   "metadata": {},
   "source": [
    "On the next method, we just iterate over a dictionary of dataframes, and we use the previous method to export every query to a .csv file."
   ]
  },
  {
   "cell_type": "code",
   "execution_count": 5,
   "metadata": {},
   "outputs": [],
   "source": [
    "def export_all_queries_to_csv(data_frames):\n",
    "    for key, value in data_frames.items():\n",
    "        export_query_to_csv(value, key)\n"
   ]
  },
  {
   "cell_type": "markdown",
   "metadata": {},
   "source": [
    "So now, lets define a sparkContext, and after, we will create a sqlContext."
   ]
  },
  {
   "cell_type": "code",
   "execution_count": 6,
   "metadata": {},
   "outputs": [],
   "source": [
    "sc = setup_spark_context()\n",
    "sqlContext = SQLContext(sc)"
   ]
  },
  {
   "cell_type": "markdown",
   "metadata": {},
   "source": [
    "Now, we need to load the NASA log file to our sqlContext. To do this, we will give the log file place ('data/NASA_access_log_Aug95'). In the python version of this script, you can give the place of the files from anywere. Here, you must create a folder caled `data` and put the NASA log files inside. "
   ]
  },
  {
   "cell_type": "code",
   "execution_count": 7,
   "metadata": {},
   "outputs": [],
   "source": [
    "\n",
    "sql_log_data = sqlContext.read.text('data/NASA_access_log_Aug95')\n",
    "\n"
   ]
  },
  {
   "cell_type": "markdown",
   "metadata": {},
   "source": [
    "The dataset have informations like: \n",
    "\n",
    "\n",
    "1. host making the request. A hostname when possible, otherwise the Internet address if the name could not be looked up.\n",
    "2. timestamp in the format \"DAY MON DD HH:MM:SS YYYY\", where DAY is the day of the week, MON is the name of the month, DD is the day of the month, HH:MM:SS is the time of day using a 24-hour clock, and YYYY is the year. The timezone is -0400.\n",
    "3. request given in quotes.\n",
    "4. HTTP reply code.\n",
    "5. bytes in the reply.\n",
    "\n",
    "Example:\n",
    "\n",
    "`in24.inetnebr.com - - [01/Aug/1995:00:00:01 -0400] \"GET /shuttle/missions/sts-68/news/sts-68-mcc-05.txt HTTP/1.0\" 200 1839`\n",
    "\n",
    "\n",
    "To extract this informations we use Regular Expressions(regexp_extract) from pysparksql and we give a alias for each information. "
   ]
  },
  {
   "cell_type": "code",
   "execution_count": 20,
   "metadata": {},
   "outputs": [],
   "source": [
    "splited_data_frame = sql_log_data.select(regexp_extract('value', r'^([^\\s]+\\s)', 1).alias('host'),\n",
    "    regexp_extract('value', r'^.*\\[(\\d\\d/\\w{3}/\\d{4}:\\d{2}:\\d{2}:\\d{2} -\\d{4})]', 1).alias('timestamp'),\n",
    "    regexp_extract('value', r'^.*\"\\w+\\s+([^\\s]+)\\s+HTTP.*\"', 1).alias('request'),\n",
    "    regexp_extract('value', r'^.*\"\\s+([^\\s]+)', 1).cast('integer').alias('http_status'),\n",
    "    regexp_extract('value', r'^.*\\s+(\\d+)$', 1).cast('integer').alias('content_size_in_bytes'))\n"
   ]
  },
  {
   "cell_type": "markdown",
   "metadata": {},
   "source": [
    "Now, with the purpose of optimizing the queries, we need to persist the data do memory using cache()."
   ]
  },
  {
   "cell_type": "code",
   "execution_count": 21,
   "metadata": {},
   "outputs": [
    {
     "data": {
      "text/plain": [
       "DataFrame[host: string, timestamp: string, request: string, http_status: int, content_size_in_bytes: int]"
      ]
     },
     "execution_count": 21,
     "metadata": {},
     "output_type": "execute_result"
    }
   ],
   "source": [
    "splited_data_frame.cache()"
   ]
  },
  {
   "cell_type": "markdown",
   "metadata": {},
   "source": [
    "Once the data is cached, lets began to extract the informations we need. First, lets get the unique hots on the dataset. \n",
    "To future use, we are saving all the query results to a dictionary called `data_frames`."
   ]
  },
  {
   "cell_type": "code",
   "execution_count": 10,
   "metadata": {},
   "outputs": [],
   "source": [
    "data_frames = {}\n",
    "\n",
    "data_frames['unique_hosts'] = splited_data_frame.groupBy('host').count().filter('count = 1').select('host')\n"
   ]
  },
  {
   "cell_type": "markdown",
   "metadata": {},
   "source": [
    "To see what is the result of this query, lets add a `.show()` method."
   ]
  },
  {
   "cell_type": "code",
   "execution_count": 19,
   "metadata": {},
   "outputs": [
    {
     "name": "stdout",
     "output_type": "stream",
     "text": [
      "+--------------------+\n",
      "|                host|\n",
      "+--------------------+\n",
      "|    dial17.irco.com |\n",
      "|gbnwc1-kip1.hitch...|\n",
      "|  ppp6.cowan.edu.au |\n",
      "|  frodo.cs.hope.edu |\n",
      "|shark.reston.unis...|\n",
      "|  friar.demon.co.uk |\n",
      "|mifflin.uthscsa.edu |\n",
      "|     130.161.99.151 |\n",
      "|    199.166.213.176 |\n",
      "|      202.32.25.194 |\n",
      "|     199.232.39.165 |\n",
      "|    204.183.221.230 |\n",
      "|trabant.fernuni-h...|\n",
      "|astro1.panet.utol...|\n",
      "|dialup-3-176.gw.u...|\n",
      "|pppd062.compuserv...|\n",
      "|        164.58.86.4 |\n",
      "|ix-esc-ca2-09.ix....|\n",
      "|jsc-b32-mac152.js...|\n",
      "|    cornerstone.edu |\n",
      "+--------------------+\n",
      "only showing top 20 rows\n",
      "\n"
     ]
    }
   ],
   "source": [
    "splited_data_frame.groupBy('host').count().filter('count = 1').select('host').show()"
   ]
  },
  {
   "cell_type": "markdown",
   "metadata": {},
   "source": [
    "Now, lets list the top 20 requests. \n"
   ]
  },
  {
   "cell_type": "code",
   "execution_count": 11,
   "metadata": {},
   "outputs": [],
   "source": [
    "data_frames['top_20_request'] = splited_data_frame.groupBy('request').count().sort(desc(\"count\")).limit(20)\n"
   ]
  },
  {
   "cell_type": "markdown",
   "metadata": {},
   "source": [
    "To see what is the result of this query, lets add a `.show()` method."
   ]
  },
  {
   "cell_type": "code",
   "execution_count": 22,
   "metadata": {},
   "outputs": [
    {
     "name": "stdout",
     "output_type": "stream",
     "text": [
      "+--------------------+-----+\n",
      "|             request|count|\n",
      "+--------------------+-----+\n",
      "|/images/NASA-logo...|97275|\n",
      "|/images/KSC-logos...|75283|\n",
      "|/images/MOSAIC-lo...|67356|\n",
      "|/images/USA-logos...|66975|\n",
      "|/images/WORLD-log...|66351|\n",
      "|/images/ksclogo-m...|62670|\n",
      "|           /ksc.html|43618|\n",
      "|/history/apollo/i...|37806|\n",
      "|/images/launch-lo...|35119|\n",
      "|                   /|30105|\n",
      "|/images/ksclogosm...|27789|\n",
      "|/shuttle/missions...|24592|\n",
      "| /shuttle/countdown/|24444|\n",
      "|/shuttle/missions...|24363|\n",
      "|/shuttle/missions...|23391|\n",
      "|/shuttle/missions...|22429|\n",
      "|/images/launchmed...|19863|\n",
      "|  /htbin/cdt_main.pl|17238|\n",
      "|/shuttle/countdow...|12154|\n",
      "|     /icons/menu.xbm|12128|\n",
      "+--------------------+-----+\n",
      "\n"
     ]
    }
   ],
   "source": [
    "splited_data_frame.groupBy('request').count().sort(desc(\"count\")).limit(20).show()"
   ]
  },
  {
   "cell_type": "markdown",
   "metadata": {},
   "source": [
    "We need list now, the total of http 404 results."
   ]
  },
  {
   "cell_type": "code",
   "execution_count": 12,
   "metadata": {},
   "outputs": [],
   "source": [
    "data_frames['total_http_404'] = splited_data_frame.groupBy('http_status').count().filter('http_status = \"404\"')\n"
   ]
  },
  {
   "cell_type": "markdown",
   "metadata": {},
   "source": [
    "To see what is the result of this query, lets add a `.show()` method."
   ]
  },
  {
   "cell_type": "code",
   "execution_count": 24,
   "metadata": {},
   "outputs": [
    {
     "name": "stdout",
     "output_type": "stream",
     "text": [
      "+-----------+-----+\n",
      "|http_status|count|\n",
      "+-----------+-----+\n",
      "|        404|10056|\n",
      "+-----------+-----+\n",
      "\n"
     ]
    }
   ],
   "source": [
    "splited_data_frame.groupBy('http_status').count().filter('http_status = \"404\"').show()"
   ]
  },
  {
   "cell_type": "markdown",
   "metadata": {},
   "source": [
    "Now, we will list the frequecy of all http status."
   ]
  },
  {
   "cell_type": "code",
   "execution_count": 67,
   "metadata": {},
   "outputs": [],
   "source": [
    "data_frames['frequency_status'] = splited_data_frame.groupBy('http_status').count().sort(desc('count'))\n"
   ]
  },
  {
   "cell_type": "markdown",
   "metadata": {},
   "source": [
    "To see what is the result of this query, lets add a `.show()` method."
   ]
  },
  {
   "cell_type": "code",
   "execution_count": 71,
   "metadata": {},
   "outputs": [
    {
     "name": "stdout",
     "output_type": "stream",
     "text": [
      "+-----------+-------+\n",
      "|http_status|  count|\n",
      "+-----------+-------+\n",
      "|        200|1398988|\n",
      "|        304| 134146|\n",
      "|        302|  26497|\n",
      "|        404|  10056|\n",
      "|        403|    171|\n",
      "|        501|     27|\n",
      "|        400|     10|\n",
      "|        500|      3|\n",
      "+-----------+-------+\n",
      "\n"
     ]
    }
   ],
   "source": [
    "splited_data_frame.groupBy('http_status').count().sort(desc('count')).show()"
   ]
  },
  {
   "cell_type": "markdown",
   "metadata": {},
   "source": [
    "To a better visualization, lets plot this in a pie chart."
   ]
  },
  {
   "cell_type": "code",
   "execution_count": 97,
   "metadata": {},
   "outputs": [
    {
     "data": {
      "image/png": "[encoded data removed]",
      "text/plain": [
       "<Figure size 432x288 with 1 Axes>"
      ]
     },
     "metadata": {},
     "output_type": "display_data"
    }
   ],
   "source": [
    "labels = []\n",
    "qty = []\n",
    "\n",
    "for item in data_frames['frequency_status'].collect():\n",
    "    labels.append(item[0])\n",
    "    qty.append(item[1])\n",
    "\n",
    "\n",
    "\n",
    "fig1, ax1 = plt.subplots()\n",
    "ax1.pie(qty, labels=labels, autopct='%1.1f%%',\n",
    "        shadow=True, startangle=90)\n",
    "ax1.axis('equal')  # Equal aspect ratio ensures that pie is drawn as a circle.\n",
    "\n",
    "plt.show()"
   ]
  },
  {
   "cell_type": "markdown",
   "metadata": {},
   "source": [
    "We can also plot this in anorther form. Like the example below."
   ]
  },
  {
   "cell_type": "code",
   "execution_count": 194,
   "metadata": {},
   "outputs": [
    {
     "data": {
      "image/png": "[encoded data removed]",
      "text/plain": [
       "<Figure size 432x288 with 1 Axes>"
      ]
     },
     "metadata": {
      "needs_background": "light"
     },
     "output_type": "display_data"
    }
   ],
   "source": [
    "\n",
    "\n",
    "fig, ax1 = plt.subplots()\n",
    "\n",
    "\n",
    "ind = np.arange(1, 9)\n",
    "\n",
    "plt.bar(ind, qty)\n",
    "\n",
    "ax1.set_xticks(ind)\n",
    "ax1.set_xticklabels(labels)\n",
    "ax1.set_ylim([0, 1750000])\n",
    "ax1.set_ylabel('Quantity')\n",
    "ax1.set_xlabel('Http Status')\n",
    "\n",
    "ax1.set_title('Http Status per day')\n",
    "\n",
    "\n",
    "plt.show()"
   ]
  },
  {
   "cell_type": "markdown",
   "metadata": {},
   "source": [
    "Now, lets list the top hosts answered with http 404"
   ]
  },
  {
   "cell_type": "code",
   "execution_count": 14,
   "metadata": {},
   "outputs": [],
   "source": [
    "data_frames['top_5_hosts_http_404'] = splited_data_frame.filter('http_status = \"404\"').groupBy('request').count().sort(col(\"count\").desc()).limit(5)\n"
   ]
  },
  {
   "cell_type": "markdown",
   "metadata": {},
   "source": [
    "To see what is the result of this query, lets add a `.show()` method."
   ]
  },
  {
   "cell_type": "code",
   "execution_count": 26,
   "metadata": {},
   "outputs": [
    {
     "name": "stdout",
     "output_type": "stream",
     "text": [
      "+--------------------+-----+\n",
      "|             request|count|\n",
      "+--------------------+-----+\n",
      "|/pub/winvn/readme...| 1337|\n",
      "|/pub/winvn/releas...| 1185|\n",
      "|/shuttle/missions...|  682|\n",
      "|/images/nasa-logo...|  319|\n",
      "|/shuttle/missions...|  251|\n",
      "+--------------------+-----+\n",
      "\n"
     ]
    }
   ],
   "source": [
    "splited_data_frame.filter('http_status = \"404\"').groupBy('request').count().sort(col(\"count\").desc()).limit(5).show()"
   ]
  },
  {
   "cell_type": "markdown",
   "metadata": {},
   "source": [
    "Now, lest extract the quantity of http 404 per day."
   ]
  },
  {
   "cell_type": "code",
   "execution_count": 179,
   "metadata": {},
   "outputs": [],
   "source": [
    "data_frames['qty_http_404_per_day'] = splited_data_frame.filter('http_status = \"404\"').groupBy(splited_data_frame.timestamp.substr(1, 11).alias('day')).count().sort('day')"
   ]
  },
  {
   "cell_type": "markdown",
   "metadata": {},
   "source": [
    "To see what is the result of this query, lets add a `.show()` method."
   ]
  },
  {
   "cell_type": "code",
   "execution_count": 163,
   "metadata": {},
   "outputs": [
    {
     "name": "stdout",
     "output_type": "stream",
     "text": [
      "+-----------+-----+\n",
      "|        day|count|\n",
      "+-----------+-----+\n",
      "|01/Aug/1995|  243|\n",
      "|03/Aug/1995|  304|\n",
      "|04/Aug/1995|  346|\n",
      "|05/Aug/1995|  236|\n",
      "|06/Aug/1995|  373|\n",
      "|07/Aug/1995|  537|\n",
      "|08/Aug/1995|  391|\n",
      "|09/Aug/1995|  279|\n",
      "|10/Aug/1995|  315|\n",
      "|11/Aug/1995|  263|\n",
      "|12/Aug/1995|  196|\n",
      "|13/Aug/1995|  216|\n",
      "|14/Aug/1995|  287|\n",
      "|15/Aug/1995|  327|\n",
      "|16/Aug/1995|  259|\n",
      "|17/Aug/1995|  271|\n",
      "|18/Aug/1995|  256|\n",
      "|19/Aug/1995|  209|\n",
      "|20/Aug/1995|  312|\n",
      "|21/Aug/1995|  305|\n",
      "+-----------+-----+\n",
      "only showing top 20 rows\n",
      "\n"
     ]
    }
   ],
   "source": [
    "splited_data_frame.filter('http_status = \"404\"').groupBy(splited_data_frame.timestamp.substr(1, 11).alias('day')).count().sort('day').show()"
   ]
  },
  {
   "cell_type": "markdown",
   "metadata": {},
   "source": [
    "In a Chart:"
   ]
  },
  {
   "cell_type": "code",
   "execution_count": 195,
   "metadata": {},
   "outputs": [
    {
     "data": {
      "image/png": "[encoded data removed]",
      "text/plain": [
       "<Figure size 432x288 with 1 Axes>"
      ]
     },
     "metadata": {
      "needs_background": "light"
     },
     "output_type": "display_data"
    }
   ],
   "source": [
    "\n",
    "\n",
    "\n",
    "dates = []\n",
    "quantity = []\n",
    "for item in data_frames['qty_http_404_per_day'].collect():\n",
    "    date_time_obj = datetime.datetime.strptime(item[0], '%d/%b/%Y')\n",
    "    dates.append(date_time_obj)\n",
    "    quantity.append(item[1])\n",
    "\n",
    "\n",
    "formatter = DateFormatter('%d/%m/%Y')\n",
    "date1 = datetime.date(1952, 1, 1)\n",
    "date2 = datetime.date(2004, 4, 12)\n",
    "delta = datetime.timedelta(days=100)\n",
    "\n",
    "\n",
    "fig, ax2 = plt.subplots()\n",
    "plt.plot(dates, quantity, 'b-')\n",
    "\n",
    "\n",
    "ax2.set_xticks(dates)\n",
    "\n",
    "ax2.set_xticklabels(dates)\n",
    "\n",
    "ax2.xaxis.set_major_formatter(formatter)\n",
    "\n",
    "ax2.xaxis.set_tick_params(rotation=90, labelsize=8)\n",
    "\n",
    "ax2.set_ylabel('Quantity')\n",
    "ax2.set_xlabel('Days')\n",
    "\n",
    "plt.grid()\n",
    "plt.show()"
   ]
  },
  {
   "cell_type": "markdown",
   "metadata": {},
   "source": [
    "Now, lets show the sum of bytes of all requests in the dataset."
   ]
  },
  {
   "cell_type": "code",
   "execution_count": 16,
   "metadata": {},
   "outputs": [],
   "source": [
    "data_frames['sum_bytes'] = splited_data_frame.select('content_size_in_bytes').groupBy().sum()\n"
   ]
  },
  {
   "cell_type": "markdown",
   "metadata": {},
   "source": [
    "To see what is the result of this query, lets add a `.show()` method."
   ]
  },
  {
   "cell_type": "code",
   "execution_count": 33,
   "metadata": {},
   "outputs": [
    {
     "name": "stdout",
     "output_type": "stream",
     "text": [
      "+--------------------------+\n",
      "|sum(content_size_in_bytes)|\n",
      "+--------------------------+\n",
      "|               26828341424|\n",
      "+--------------------------+\n",
      "\n"
     ]
    }
   ],
   "source": [
    "splited_data_frame.select('content_size_in_bytes').groupBy().sum().show()"
   ]
  },
  {
   "cell_type": "markdown",
   "metadata": {},
   "source": [
    "In Gigabytes:"
   ]
  },
  {
   "cell_type": "code",
   "execution_count": 41,
   "metadata": {},
   "outputs": [
    {
     "data": {
      "text/plain": [
       "26.828341423999998"
      ]
     },
     "execution_count": 41,
     "metadata": {},
     "output_type": "execute_result"
    }
   ],
   "source": [
    "kbytes = data_frames['sum_bytes'].collect()[0][0] / 1000\n",
    "mbytes = kbytes / 1000\n",
    "mbytes / 1000"
   ]
  },
  {
   "cell_type": "code",
   "execution_count": null,
   "metadata": {},
   "outputs": [],
   "source": [
    "Now, lets extract how many bytes per day."
   ]
  },
  {
   "cell_type": "code",
   "execution_count": 198,
   "metadata": {},
   "outputs": [],
   "source": [
    "data_frames['bytes_per_day'] = splited_data_frame.select('content_size_in_bytes', 'timestamp').groupBy(splited_data_frame.timestamp.substr(1, 11).alias('day')).sum().sort('day')"
   ]
  },
  {
   "cell_type": "markdown",
   "metadata": {},
   "source": [
    "To see what is the result of this query, lets add a `.show()` method."
   ]
  },
  {
   "cell_type": "code",
   "execution_count": 196,
   "metadata": {},
   "outputs": [
    {
     "name": "stdout",
     "output_type": "stream",
     "text": [
      "+-----------+--------------------------+\n",
      "|        day|sum(content_size_in_bytes)|\n",
      "+-----------+--------------------------+\n",
      "|01/Aug/1995|                 529321719|\n",
      "|03/Aug/1995|                 732953605|\n",
      "|04/Aug/1995|                1109750886|\n",
      "|05/Aug/1995|                 613609454|\n",
      "|06/Aug/1995|                 634115309|\n",
      "|07/Aug/1995|                 957845030|\n",
      "|08/Aug/1995|                1063204146|\n",
      "|09/Aug/1995|                 980865711|\n",
      "|10/Aug/1995|                1034849598|\n",
      "|11/Aug/1995|                1102726342|\n",
      "|12/Aug/1995|                 695596219|\n",
      "|13/Aug/1995|                 696820803|\n",
      "|14/Aug/1995|                1083538174|\n",
      "|15/Aug/1995|                1054416847|\n",
      "|16/Aug/1995|                 994651612|\n",
      "|17/Aug/1995|                1045943479|\n",
      "|18/Aug/1995|                 905405391|\n",
      "|19/Aug/1995|                 579537180|\n",
      "|20/Aug/1995|                 610032974|\n",
      "|21/Aug/1995|                 920414794|\n",
      "+-----------+--------------------------+\n",
      "only showing top 20 rows\n",
      "\n"
     ]
    }
   ],
   "source": [
    "splited_data_frame.select('content_size_in_bytes', 'timestamp').groupBy(splited_data_frame.timestamp.substr(1, 11).alias('day')).sum().sort('day').show()"
   ]
  },
  {
   "cell_type": "markdown",
   "metadata": {},
   "source": [
    "For a better visualization:"
   ]
  },
  {
   "cell_type": "code",
   "execution_count": 199,
   "metadata": {},
   "outputs": [
    {
     "data": {
      "image/png": "[encoded data removed]",
      "text/plain": [
       "<Figure size 432x288 with 1 Axes>"
      ]
     },
     "metadata": {
      "needs_background": "light"
     },
     "output_type": "display_data"
    }
   ],
   "source": [
    "dates = []\n",
    "quantity = []\n",
    "for item in data_frames['bytes_per_day'].collect():\n",
    "    date_time_obj = datetime.datetime.strptime(item[0], '%d/%b/%Y')\n",
    "    dates.append(date_time_obj)\n",
    "    quantity.append(item[1])\n",
    "\n",
    "\n",
    "formatter = DateFormatter('%d/%m/%Y')\n",
    "date1 = datetime.date(1952, 1, 1)\n",
    "date2 = datetime.date(2004, 4, 12)\n",
    "delta = datetime.timedelta(days=100)\n",
    "\n",
    "\n",
    "fig, ax2 = plt.subplots()\n",
    "plt.plot(dates, quantity, 'b-')\n",
    "\n",
    "\n",
    "ax2.set_xticks(dates)\n",
    "\n",
    "ax2.set_xticklabels(dates)\n",
    "\n",
    "ax2.xaxis.set_major_formatter(formatter)\n",
    "\n",
    "ax2.xaxis.set_tick_params(rotation=90, labelsize=8)\n",
    "\n",
    "ax2.set_ylabel('Quantity')\n",
    "ax2.set_xlabel('Days')\n",
    "\n",
    "plt.grid()\n",
    "plt.show()"
   ]
  },
  {
   "cell_type": "markdown",
   "metadata": {},
   "source": [
    "Once we extract all informations, lets export the results calling the following function."
   ]
  },
  {
   "cell_type": "code",
   "execution_count": 18,
   "metadata": {},
   "outputs": [],
   "source": [
    "export_all_queries_to_csv(data_frames)\n"
   ]
  }
 ],
 "metadata": {
  "kernelspec": {
   "display_name": "Python 3",
   "language": "python",
   "name": "python3"
  },
  "language_info": {
   "codemirror_mode": {
    "name": "ipython",
    "version": 3
   },
   "file_extension": ".py",
   "mimetype": "text/x-python",
   "name": "python",
   "nbconvert_exporter": "python",
   "pygments_lexer": "ipython3",
   "version": "3.5.6"
  }
 },
 "nbformat": 4,
 "nbformat_minor": 2
}
